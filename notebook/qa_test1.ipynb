{
 "cells": [
  {
   "cell_type": "code",
   "execution_count": 2,
   "id": "aaaacebe-35ca-49d9-9e09-e4f473898206",
   "metadata": {},
   "outputs": [],
   "source": [
    "import numpy as np\n",
    "import openjij as oj"
   ]
  },
  {
   "cell_type": "code",
   "execution_count": 3,
   "id": "efe20ddd-a89b-4312-84ea-425d02bb3a0b",
   "metadata": {},
   "outputs": [
    {
     "name": "stdout",
     "output_type": "stream",
     "text": [
      "h_i:  {0: -1, 1: -1, 2: -1, 3: -1, 4: -1}\n",
      "Jij:  {(0, 1): -1, (0, 2): -1, (0, 3): -1, (0, 4): -1, (1, 2): -1, (1, 3): -1, (1, 4): -1, (2, 3): -1, (2, 4): -1, (3, 4): -1}\n"
     ]
    }
   ],
   "source": [
    "import openjij as oj\n",
    "\n",
    "# 問題を表す縦磁場と相互作用を作ります。OpenJijでは辞書型で問題を受け付けます。\n",
    "N = 5\n",
    "h = {i: -1 for i in range(N)}\n",
    "J = {(i, j): -1 for i in range(N) for j in range(i+1, N)}\n",
    "\n",
    "print('h_i: ', h)\n",
    "print('Jij: ', J)"
   ]
  },
  {
   "cell_type": "code",
   "execution_count": 9,
   "id": "ed2a5f94-34ca-4360-af1d-f136d94d8734",
   "metadata": {},
   "outputs": [
    {
     "data": {
      "text/plain": [
       "array({(0, 1): -1, (0, 2): -1, (0, 3): -1, (0, 4): -1, (1, 2): -1, (1, 3): -1, (1, 4): -1, (2, 3): -1, (2, 4): -1, (3, 4): -1},\n",
       "      dtype=object)"
      ]
     },
     "execution_count": 9,
     "metadata": {},
     "output_type": "execute_result"
    }
   ],
   "source": [
    "np.array(J)"
   ]
  },
  {
   "cell_type": "code",
   "execution_count": 6,
   "id": "7a51e499-3180-4912-a89f-c59a0c106a0e",
   "metadata": {},
   "outputs": [
    {
     "name": "stdout",
     "output_type": "stream",
     "text": [
      "[[1 1 1 1 1]\n",
      " [1 1 1 1 1]\n",
      " [1 1 1 1 1]\n",
      " [1 1 1 1 1]\n",
      " [1 1 1 1 1]]\n",
      "[{0: 1, 1: 1, 2: 1, 3: 1, 4: 1}, {0: 1, 1: 1, 2: 1, 3: 1, 4: 1}, {0: 1, 1: 1, 2: 1, 3: 1, 4: 1}, {0: 1, 1: 1, 2: 1, 3: 1, 4: 1}, {0: 1, 1: 1, 2: 1, 3: 1, 4: 1}]\n"
     ]
    }
   ],
   "source": [
    "# まず問題を解いてくれるSamplerのインスタンスを作ります。\n",
    "# このインスタンスの選択で問題を解くアルゴリズムを選択できます。\n",
    "sampler = oj.SASampler(num_reads=5)\n",
    "# samplerのメソッドに問題(h, J)を投げて問題を解きます。\n",
    "response = sampler.sample_ising(h, J)\n",
    "\n",
    "# 計算した結果(状態)は response.states に入っています。\n",
    "print(response.states)\n",
    "\n",
    "# もしくは添字付きでみるには samples関数 を用います。\n",
    "print([s for s in response.samples()])"
   ]
  },
  {
   "cell_type": "code",
   "execution_count": 10,
   "id": "d42373e7-63ff-4f08-8c46-75b926d9cb81",
   "metadata": {},
   "outputs": [
    {
     "name": "stdout",
     "output_type": "stream",
     "text": [
      "[[-1.  -0.5 -0.5 -0.5]\n",
      " [-0.5 -1.  -0.5 -0.5]\n",
      " [-0.5 -0.5 -1.  -0.5]\n",
      " [-0.5 -0.5 -0.5 -1. ]]\n",
      "BinaryQuadraticModel({0: -1.0, 1: -1.0, 2: -1.0, 3: -1.0}, {(0, 1): -1.0, (1, 3): -1.0, (0, 2): -1.0, (1, 2): -1.0, (0, 3): -1.0, (2, 3): -1.0}, 0.0, Vartype.SPIN, sparse=False)\n",
      "[[1 1 1 1]\n",
      " [1 1 1 1]\n",
      " [1 1 1 1]]\n"
     ]
    }
   ],
   "source": [
    "import numpy as np\n",
    "mat = np.array([[-1,-0.5,-0.5,-0.5],[-0.5,-1,-0.5,-0.5],[-0.5,-0.5,-1,-0.5],[-0.5,-0.5,-0.5,-1]])\n",
    "print(mat)\n",
    "\n",
    "# oj.BinaryQuadraticModelを作成し、変数タイプ (vartype)を'SPIN'にします。\n",
    "bqm = oj.BinaryQuadraticModel.from_numpy_matrix(mat, vartype='SPIN')\n",
    "# 各要素をprintで確認できます。J_{ij}とJ_{ji}は内部でまとめられます。\n",
    "print(bqm)\n",
    "\n",
    "sampler = oj.SASampler(num_reads=3)\n",
    "response = sampler.sample(bqm)\n",
    "\n",
    "print(response.states)"
   ]
  },
  {
   "cell_type": "code",
   "execution_count": 14,
   "id": "930e2bab-728d-43af-a738-12e96577a29a",
   "metadata": {},
   "outputs": [],
   "source": [
    "X = np.random.normal(size = (4, 5))\n",
    "mat = X @ X.T"
   ]
  },
  {
   "cell_type": "code",
   "execution_count": 18,
   "id": "a1678325-a43a-4af1-a1a4-e4f426e387d6",
   "metadata": {},
   "outputs": [
    {
     "name": "stdout",
     "output_type": "stream",
     "text": [
      "[[8.05923744 1.39197506 1.83957535 2.09764547]\n",
      " [1.39197506 3.62668137 0.50621007 0.17218037]\n",
      " [1.83957535 0.50621007 3.81696219 0.56552776]\n",
      " [2.09764547 0.17218037 0.56552776 1.87703911]]\n",
      "BinaryQuadraticModel({0: 8.059237436607052, 1: 3.6266813705907275, 2: 3.81696218791518, 3: 1.8770391061944744}, {(0, 1): 2.783950122755484, (1, 3): 0.3443607353003958, (0, 2): 3.6791506957266122, (1, 2): 1.0124201488520135, (0, 3): 4.195290937908955, (2, 3): 1.1310555147120729}, 0.0, Vartype.SPIN, sparse=False)\n",
      "[[-1 -1 -1  1]\n",
      " [-1 -1 -1  1]\n",
      " [-1 -1 -1  1]\n",
      " [-1 -1 -1  1]\n",
      " [-1 -1 -1  1]]\n"
     ]
    }
   ],
   "source": [
    "print(mat)\n",
    "\n",
    "# oj.BinaryQuadraticModelを作成し、変数タイプ (vartype)を'SPIN'にします。\n",
    "bqm = oj.BinaryQuadraticModel.from_numpy_matrix(mat, vartype='SPIN')\n",
    "# 各要素をprintで確認できます。J_{ij}とJ_{ji}は内部でまとめられます。\n",
    "print(bqm)\n",
    "\n",
    "sampler = oj.SASampler(num_reads=5)\n",
    "response = sampler.sample(bqm)\n",
    "\n",
    "print(response.states)"
   ]
  },
  {
   "cell_type": "code",
   "execution_count": null,
   "id": "496d6d03-05dc-42bf-a97a-75eb5407bc22",
   "metadata": {},
   "outputs": [],
   "source": []
  },
  {
   "cell_type": "code",
   "execution_count": 20,
   "id": "6e5ce968-209c-465e-a4c0-bef62772cdd2",
   "metadata": {},
   "outputs": [
    {
     "name": "stdout",
     "output_type": "stream",
     "text": [
      "[[1 1 0]]\n"
     ]
    }
   ],
   "source": [
    "# Q_ij を辞書型でつくります。\n",
    "Q = {(0, 0): -1, (0, 1): -1, (1, 2): 1, (2, 2): 1}\n",
    "sampler = oj.SASampler()\n",
    "# QUBOを解く時は .sample_qubo を使います。\n",
    "response = sampler.sample_qubo(Q)\n",
    "print(response.states)"
   ]
  },
  {
   "cell_type": "code",
   "execution_count": 29,
   "id": "b7ea4874-3649-4c3f-9fe3-b985e9873b37",
   "metadata": {},
   "outputs": [],
   "source": [
    "N = 50\n",
    "# ランダムにQij を作る\n",
    "import random\n",
    "Q = {(i, j): random.uniform(-1, 1) for i in range(N) for j in range(i+1, N)}"
   ]
  },
  {
   "cell_type": "code",
   "execution_count": 30,
   "id": "62b885c7-bc32-4419-be94-6bb1193cf632",
   "metadata": {},
   "outputs": [],
   "source": [
    "# OpenJijで解く\n",
    "sampler = oj.SASampler()\n",
    "response = sampler.sample_qubo(Q, num_reads=100)"
   ]
  },
  {
   "cell_type": "code",
   "execution_count": 31,
   "id": "715dc21c-c9e5-4b76-a006-54e1221bf374",
   "metadata": {},
   "outputs": [
    {
     "data": {
      "text/plain": [
       "array([-56.02455207, -56.8961425 , -56.8961425 , -56.04908916,\n",
       "       -56.02455207])"
      ]
     },
     "execution_count": 31,
     "metadata": {},
     "output_type": "execute_result"
    }
   ],
   "source": [
    "# エネルギーを少しみてみます。\n",
    "response.energies[:5]"
   ]
  },
  {
   "cell_type": "code",
   "execution_count": 32,
   "id": "01b35e49-f731-475f-874c-239583518263",
   "metadata": {},
   "outputs": [
    {
     "data": {
      "image/png": "[encoded data removed]",
      "text/plain": [
       "<Figure size 432x288 with 1 Axes>"
      ]
     },
     "metadata": {
      "needs_background": "light"
     },
     "output_type": "display_data"
    }
   ],
   "source": [
    "import matplotlib.pyplot as plt\n",
    "plt.hist(response.energies, bins=15)\n",
    "plt.xlabel('Energy', fontsize=15)\n",
    "plt.ylabel('Frequency', fontsize=15)\n",
    "plt.show()"
   ]
  }
 ],
 "metadata": {
  "kernelspec": {
   "display_name": "qcomputing",
   "language": "python",
   "name": "qcomputing"
  },
  "language_info": {
   "codemirror_mode": {
    "name": "ipython",
    "version": 3
   },
   "file_extension": ".py",
   "mimetype": "text/x-python",
   "name": "python",
   "nbconvert_exporter": "python",
   "pygments_lexer": "ipython3",
   "version": "3.8.12"
  }
 },
 "nbformat": 4,
 "nbformat_minor": 5
}
