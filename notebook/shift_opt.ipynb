{
 "cells": [
  {
   "cell_type": "code",
   "execution_count": 1,
   "id": "9c49fe5e-3b8f-40ed-a007-32b13b4cdd83",
   "metadata": {},
   "outputs": [],
   "source": [
    "%matplotlib inline"
   ]
  },
  {
   "cell_type": "code",
   "execution_count": 2,
   "id": "b2fd3cf4-f92d-4111-9594-7c990e490d9e",
   "metadata": {},
   "outputs": [],
   "source": [
    "import math\n",
    "\n",
    "import dimod\n",
    "import numpy as np\n",
    "import openjij as oj\n",
    "from pyqubo import Array, Constraint, LogEncInteger, solve_qubo"
   ]
  },
  {
   "cell_type": "markdown",
   "id": "6ce17f64-9973-4b09-a7b7-afdfe484159d",
   "metadata": {},
   "source": [
    "# 制約条件\n",
    "$$ W_j <= \\sum_i x_{ij} y_i $$"
   ]
  },
  {
   "cell_type": "code",
   "execution_count": 285,
   "id": "1557a2df-42f1-48b0-b9ad-c4dd80cd4798",
   "metadata": {},
   "outputs": [],
   "source": [
    "W = np.array([2.1, 2.5, 1, 3.25], dtype=float)\n",
    "y = np.array([0.25, 0.5, 1, 1, 1, 1, 1, 1, 1, 1, 1, 1, 1])\n",
    "\n",
    "# タスクの数\n",
    "M = len(W)\n",
    "# 人の数\n",
    "N = len(y)"
   ]
  },
  {
   "cell_type": "markdown",
   "id": "f149613b-4914-4c1e-b065-cf1bc0398111",
   "metadata": {},
   "source": [
    "# 目的変数\n",
    "$$ x \\in \\{0,1\\}^{N \\times M} $$"
   ]
  },
  {
   "cell_type": "code",
   "execution_count": 286,
   "id": "bac6cc4d-6116-40cc-a5d4-fe9bbae5acab",
   "metadata": {},
   "outputs": [],
   "source": [
    "x = Array.create(\"x\", shape=(N, M), vartype=\"BINARY\")\n",
    "c_ineqs = np.array(\n",
    "    [LogEncInteger(\"y\" + str(i), (0, int(np.ceil(4 * W[i])))) for i in range(M)]\n",
    ")"
   ]
  },
  {
   "cell_type": "code",
   "execution_count": 292,
   "id": "d32065e8-518e-47ca-9c05-3507f38f7dfa",
   "metadata": {},
   "outputs": [],
   "source": [
    "A = np.array([1, 1, 10, 10])\n",
    "B = 50\n",
    "# Hy = Constraint(sum(A * (W - y @ x) ** 2), label=\"Hy\")\n",
    "Hy = Constraint(\n",
    "    sum(A * (np.ceil(4 * W) + c_ineqs - np.ceil(4 * y) @ x) ** 2), label=\"Hy\"\n",
    ")\n",
    "Hx = Constraint(sum(B * (1 - np.sum(x, axis=1)) ** 2), label=\"Hx\")"
   ]
  },
  {
   "cell_type": "code",
   "execution_count": 293,
   "id": "ae524c3b-8642-45cc-8c1b-51ba43d8612c",
   "metadata": {},
   "outputs": [],
   "source": [
    "H = Hx + Hy\n",
    "model = H.compile()\n",
    "q, offset = model.to_qubo()"
   ]
  },
  {
   "cell_type": "code",
   "execution_count": 294,
   "id": "c2850da2-d0c5-4779-8b03-d0250207218b",
   "metadata": {},
   "outputs": [],
   "source": [
    "sampler = oj.SQASampler(num_reads=200)\n",
    "sampleset = sampler.sample_qubo(q)\n",
    "decoded_sample = model.decode_sample(sampleset.first.sample, vartype=\"BINARY\")"
   ]
  },
  {
   "cell_type": "code",
   "execution_count": 295,
   "id": "840cf52e-c833-430e-ba6d-51631fe4c5c9",
   "metadata": {},
   "outputs": [],
   "source": [
    "res_x = np.zeros(x.shape)\n",
    "for i in range(N):\n",
    "    for j in range(M):\n",
    "        res_x[i, j] = decoded_sample.array(\"x\", (i, j))"
   ]
  },
  {
   "cell_type": "code",
   "execution_count": 296,
   "id": "702e1304-2341-49e1-a1ca-b0b64170e125",
   "metadata": {},
   "outputs": [],
   "source": [
    "res_ineq = np.zeros(M)\n",
    "for j in range(M):\n",
    "    res_ineq[j] = sum(\n",
    "        2**k * v\n",
    "        for k, v in [\n",
    "            (elem, decoded_sample.array(\"y\" + str(j), elem))\n",
    "            for elem in range(math.ceil(math.log2(W[j])))\n",
    "        ]\n",
    "    )"
   ]
  },
  {
   "cell_type": "code",
   "execution_count": 297,
   "id": "a4cb41eb-535a-4f30-893c-3d5f774a7749",
   "metadata": {},
   "outputs": [
    {
     "data": {
      "text/plain": [
       "array([1., 1., 0., 3.])"
      ]
     },
     "execution_count": 297,
     "metadata": {},
     "output_type": "execute_result"
    }
   ],
   "source": [
    "res_ineq"
   ]
  },
  {
   "cell_type": "code",
   "execution_count": 298,
   "id": "3d84fc83-8b24-4572-af57-664e6bf65f47",
   "metadata": {},
   "outputs": [
    {
     "data": {
      "text/plain": [
       "array([1., 1., 1., 1., 1., 1., 1., 1., 1., 1., 1., 1., 1.])"
      ]
     },
     "execution_count": 298,
     "metadata": {},
     "output_type": "execute_result"
    }
   ],
   "source": [
    "res_x.sum(axis=1)"
   ]
  },
  {
   "cell_type": "code",
   "execution_count": 301,
   "id": "8a5be63b-f465-4cb9-88c5-f299d55598df",
   "metadata": {},
   "outputs": [
    {
     "data": {
      "text/plain": [
       "array([ 9., 10.,  4., 17.])"
      ]
     },
     "execution_count": 301,
     "metadata": {},
     "output_type": "execute_result"
    }
   ],
   "source": [
    "np.ceil(4 * W)"
   ]
  },
  {
   "cell_type": "code",
   "execution_count": 299,
   "id": "9c20ce3b-197d-48b7-97cf-8d880c042194",
   "metadata": {},
   "outputs": [
    {
     "data": {
      "text/plain": [
       "array([10., 12.,  5., 20.])"
      ]
     },
     "execution_count": 299,
     "metadata": {},
     "output_type": "execute_result"
    }
   ],
   "source": [
    "np.ceil(4 * y) @ res_x"
   ]
  },
  {
   "cell_type": "code",
   "execution_count": 300,
   "id": "9d2b09e6-7f93-4feb-a271-0650a5798779",
   "metadata": {},
   "outputs": [
    {
     "data": {
      "text/plain": [
       "array([-1., -2., -1., -3.])"
      ]
     },
     "execution_count": 300,
     "metadata": {},
     "output_type": "execute_result"
    }
   ],
   "source": [
    "np.ceil(4 * W) - np.ceil(4 * y) @ res_x"
   ]
  },
  {
   "cell_type": "code",
   "execution_count": 282,
   "id": "be0bf327-98f7-435b-ac62-909b1517e771",
   "metadata": {},
   "outputs": [
    {
     "data": {
      "text/plain": [
       "array([[0., 0., 1., 0.],\n",
       "       [0., 0., 0., 1.],\n",
       "       [0., 1., 0., 0.],\n",
       "       [0., 0., 0., 1.],\n",
       "       [0., 0., 0., 1.],\n",
       "       [0., 0., 0., 1.],\n",
       "       [0., 0., 0., 1.],\n",
       "       [0., 0., 1., 0.],\n",
       "       [1., 0., 0., 0.],\n",
       "       [1., 0., 0., 0.],\n",
       "       [0., 1., 0., 0.],\n",
       "       [1., 0., 0., 0.],\n",
       "       [0., 1., 0., 0.]])"
      ]
     },
     "execution_count": 282,
     "metadata": {},
     "output_type": "execute_result"
    }
   ],
   "source": [
    "res_x"
   ]
  },
  {
   "cell_type": "code",
   "execution_count": 4,
   "id": "25f7dcd0-c3c9-4d50-ba78-a46158e34d82",
   "metadata": {
    "lines_to_next_cell": 2
   },
   "outputs": [],
   "source": [
    "W = 20\n",
    "c = {0: 5, 1: 7, 2: 2, 3: 1, 4: 4, 5: 3}\n",
    "w = {0: 8, 1: 10, 2: 6, 3: 4, 4: 5, 5: 3}\n",
    "N = len(w)"
   ]
  },
  {
   "cell_type": "code",
   "execution_count": 35,
   "id": "ddacf49e-f91b-4988-ab1e-aab94ef8475e",
   "metadata": {},
   "outputs": [],
   "source": [
    "E = 3"
   ]
  },
  {
   "cell_type": "code",
   "execution_count": 36,
   "id": "e3e15bbb-396e-4e50-a060-40796f793612",
   "metadata": {},
   "outputs": [],
   "source": [
    "x = Array.create(\"x\", shape=(N), vartype=\"BINARY\")\n",
    "y = LogEncInteger(\"y\", (0, W))\n",
    "z = LogEncInteger(\"z\", (0, E))"
   ]
  },
  {
   "cell_type": "code",
   "execution_count": 37,
   "id": "a4c4c3be-d46d-417e-bdc1-d1804853fbbd",
   "metadata": {},
   "outputs": [],
   "source": [
    "key1 = max(c, key=lambda k: c[k])\n",
    "B = 40\n",
    "A = 10 * B * c[key1]\n",
    "\n",
    "HA1 = Constraint(A * (W - sum(w[a] * x[a] for a in range(N)) - y) ** 2, label=\"HA1\")\n",
    "HA2 = Constraint(A * (E - sum(x) - z) ** 2, label=\"HA2\")\n",
    "\n",
    "HB = -B * sum(c[a] * x[a] for a in range(N))"
   ]
  },
  {
   "cell_type": "code",
   "execution_count": 38,
   "id": "3372d380-97ba-4125-82fb-92f09dc09ad5",
   "metadata": {},
   "outputs": [],
   "source": [
    "H = HA1 + HA2 + HB\n",
    "Q = H\n",
    "model = Q.compile()\n",
    "q, offset = model.to_qubo()\n",
    "\n",
    "sampler = oj.SQASampler(num_reads=100)\n",
    "sampleset = sampler.sample_qubo(q)\n",
    "decoded_sample = model.decode_sample(sampleset.first.sample, vartype=\"BINARY\")"
   ]
  },
  {
   "cell_type": "code",
   "execution_count": 39,
   "id": "9f59ead8-cb3e-4e6b-ba92-a87a1342ba5f",
   "metadata": {},
   "outputs": [
    {
     "data": {
      "text/plain": [
       "1"
      ]
     },
     "execution_count": 39,
     "metadata": {},
     "output_type": "execute_result"
    }
   ],
   "source": [
    "sum(\n",
    "    2**k * v\n",
    "    for k, v in [\n",
    "        (elem, decoded_sample.array(\"z\", elem))\n",
    "        for elem in range(math.ceil(math.log2(E)))\n",
    "    ]\n",
    ")"
   ]
  },
  {
   "cell_type": "code",
   "execution_count": 40,
   "id": "8b0f5346-f7a6-41d7-8d36-38a68d5fb1fa",
   "metadata": {},
   "outputs": [
    {
     "name": "stdout",
     "output_type": "stream",
     "text": [
      "\n",
      "[Results]\n",
      "\n",
      "decoded_sample.sample:\n",
      "{'y[1]': 1, 'x[0]': 1, 'y[0]': 0, 'x[1]': 1, 'x[2]': 0, 'x[3]': 0, 'x[4]': 0, 'x[5]': 0, 'y[2]': 0, 'y[3]': 0, 'y[4]': 0, 'z[0]': 1, 'z[1]': 0}\n",
      "\n",
      "x (選ばれた宝物) :\n",
      "宝物A\n",
      "宝物B\n",
      "\n",
      "スラック変数Y = 2\n",
      "\n",
      "broken\n",
      "{}\n",
      "合計の重さ : 1.8kg\n",
      "合計の価格 : $12,000\n"
     ]
    }
   ],
   "source": [
    "print()\n",
    "print(\"[Results]\")\n",
    "print()\n",
    "print(\"decoded_sample.sample:\")\n",
    "print(decoded_sample.sample)\n",
    "print()\n",
    "print(\"x (選ばれた宝物) :\")\n",
    "\n",
    "treasures = [\"A\", \"B\", \"C\", \"D\", \"E\", \"F\", \"G\"]\n",
    "weight = 0\n",
    "cost = 0\n",
    "\n",
    "for k in range(N):\n",
    "    if decoded_sample.array(\"x\", k) != 0:\n",
    "        print(\"宝物\" + treasures[k])\n",
    "        weight += w[k]\n",
    "        cost += c[k]\n",
    "\n",
    "\n",
    "sol_y = sum(\n",
    "    2**k * v\n",
    "    for k, v in [\n",
    "        (elem, decoded_sample.array(\"y\", elem))\n",
    "        for elem in range(math.ceil(math.log2(W)))\n",
    "    ]\n",
    ")\n",
    "\n",
    "print()\n",
    "print(\"スラック変数Y = {}\".format(sol_y))\n",
    "print()\n",
    "print(\"broken\")\n",
    "print(decoded_sample.constraints(only_broken=True))\n",
    "print(\"合計の重さ : \" + str(weight / 10) + \"kg\")\n",
    "print(\"合計の価格 : $\" + str(cost) + \",000\")"
   ]
  },
  {
   "cell_type": "code",
   "execution_count": 18,
   "id": "1d9dc121-0cf3-4de4-b4d8-9e952d0fde7b",
   "metadata": {},
   "outputs": [
    {
     "name": "stdout",
     "output_type": "stream",
     "text": [
      "[Inputs]\n",
      "\n",
      "W (ナップサックの容量) : 2.0kg\n",
      "N (宝物の数): 6\n",
      "\n",
      "weight list\n",
      "{0: 8, 1: 10, 2: 6, 3: 4, 4: 5, 5: 3}\n",
      "\n",
      "cost list\n",
      "{0: 5, 1: 7, 2: 2, 3: 1, 4: 4, 5: 3}\n",
      "\n",
      "A : 2800\n",
      "B : 40\n",
      "\n",
      "[Results]\n",
      "\n",
      "decoded_sample.sample:\n",
      "{'y[1]': 1, 'x[0]': 0, 'y[0]': 0, 'x[1]': 1, 'x[2]': 0, 'x[3]': 0, 'x[4]': 1, 'x[5]': 1, 'y[2]': 0, 'y[3]': 0, 'y[4]': 0}\n",
      "\n",
      "x (選ばれた宝物) :\n",
      "宝物B\n",
      "宝物E\n",
      "宝物F\n",
      "\n",
      "スラック変数Y = 2\n",
      "\n",
      "broken\n",
      "{}\n",
      "合計の重さ : 1.8kg\n",
      "合計の価格 : $14,000\n"
     ]
    }
   ],
   "source": [
    "import dimod\n",
    "\n",
    "print(\"[Inputs]\")\n",
    "print()\n",
    "print(\"W (ナップサックの容量) : \" + str(W / 10) + \"kg\")\n",
    "print(\"N (宝物の数): \" + str(N))\n",
    "print()\n",
    "print(\"weight list\")\n",
    "print(w)\n",
    "print()\n",
    "print(\"cost list\")\n",
    "print(c)\n",
    "print()\n",
    "print(\"A : \" + str(A))\n",
    "print(\"B : \" + str(B))\n",
    "\n",
    "H = HA + HB\n",
    "Q = H\n",
    "model = Q.compile()\n",
    "q, offset = model.to_qubo()\n",
    "\n",
    "sampleset = dimod.ExactSolver().sample_qubo(q)\n",
    "decoded_sample = model.decode_sample(sampleset.first.sample, vartype=\"BINARY\")\n",
    "print()\n",
    "print(\"[Results]\")\n",
    "print()\n",
    "print(\"decoded_sample.sample:\")\n",
    "print(decoded_sample.sample)\n",
    "print()\n",
    "print(\"x (選ばれた宝物) :\")\n",
    "\n",
    "treasures = [\"A\", \"B\", \"C\", \"D\", \"E\", \"F\", \"G\"]\n",
    "weight = 0\n",
    "cost = 0\n",
    "\n",
    "for k in range(N):\n",
    "    if decoded_sample.array(\"x\", k) != 0:\n",
    "        print(\"宝物\" + treasures[k])\n",
    "        weight += w[k]\n",
    "        cost += c[k]\n",
    "\n",
    "\n",
    "sol_y = sum(\n",
    "    2**k * v\n",
    "    for k, v in [\n",
    "        (elem, decoded_sample.array(\"y\", elem))\n",
    "        for elem in range(math.ceil(math.log2(W)))\n",
    "    ]\n",
    ")\n",
    "\n",
    "print()\n",
    "print(\"スラック変数Y = {}\".format(sol_y))\n",
    "print()\n",
    "print(\"broken\")\n",
    "print(decoded_sample.constraints(only_broken=True))\n",
    "print(\"合計の重さ : \" + str(weight / 10) + \"kg\")\n",
    "print(\"合計の価格 : $\" + str(cost) + \",000\")"
   ]
  },
  {
   "cell_type": "code",
   "execution_count": null,
   "id": "a31d472c-912d-4fd5-96d6-c6e6e782aa78",
   "metadata": {},
   "outputs": [],
   "source": []
  }
 ],
 "metadata": {
  "kernelspec": {
   "display_name": "qcomputing",
   "language": "python",
   "name": "qcomputing"
  },
  "language_info": {
   "codemirror_mode": {
    "name": "ipython",
    "version": 3
   },
   "file_extension": ".py",
   "mimetype": "text/x-python",
   "name": "python",
   "nbconvert_exporter": "python",
   "pygments_lexer": "ipython3",
   "version": "3.8.12"
  },
  "toc-autonumbering": true,
  "toc-showmarkdowntxt": true
 },
 "nbformat": 4,
 "nbformat_minor": 5
}
