{
 "cells": [
  {
   "cell_type": "code",
   "execution_count": 56,
   "id": "baaf58c8-2c01-4ca3-8ffc-d4648d96507d",
   "metadata": {},
   "outputs": [],
   "source": [
    "%matplotlib inline"
   ]
  },
  {
   "cell_type": "code",
   "execution_count": 77,
   "id": "abfb8eac-4267-4bcf-b9e7-5a346f92b0eb",
   "metadata": {},
   "outputs": [],
   "source": [
    "from pyqubo import Array, Constraint, solve_qubo\n",
    "import matplotlib.pyplot as plt\n",
    "import matplotlib.cm as cm"
   ]
  },
  {
   "cell_type": "code",
   "execution_count": 3,
   "id": "0e02df42-d07c-4be2-9746-06ff6c842c98",
   "metadata": {},
   "outputs": [],
   "source": [
    "# 頂点の数を定義します。\n",
    "N_VER = 8\n",
    "# 色の数を定義します。\n",
    "N_COLOR = 4\n",
    "# グラフを定義します。0~7の頂点があったときにどの頂点同士が線で結ばれているかを定義しています。\n",
    "graph = [(0,1), (0,2), (1,2), (5,6), (2,3), (2,5), (3,4), (5,7), (7, 6)]"
   ]
  },
  {
   "cell_type": "code",
   "execution_count": 4,
   "id": "cf3221e8-4e22-424d-bed0-61ff7c2abc38",
   "metadata": {},
   "outputs": [],
   "source": [
    "x = Array.create('x', shape=(N_VER,N_COLOR), vartype='BINARY')"
   ]
  },
  {
   "cell_type": "code",
   "execution_count": 8,
   "id": "a8b6ab17-81bb-4d1a-9aa6-59c70fe8cd08",
   "metadata": {},
   "outputs": [],
   "source": [
    "# 第一項 (制約項)を定義します。\n",
    "H_A = Constraint(sum((1-sum(x[v,i] for i in range(1,N_COLOR)))**2 for v in range(N_VER)), label='HA')\n",
    "# 第二項 (コスト、目的関数)を定義します。\n",
    "H_B = sum((-1+sum(x[v,i] for v in range (N_VER)))/2*(sum(x[v,i] for v in range (N_VER))) - sum(x[u,i]*x[v,i] for (u,v) in graph) for i in range (1,N_COLOR))\n",
    "# ハミルトニアン全体を定義します。\n",
    "Q = H_A+H_B"
   ]
  },
  {
   "cell_type": "code",
   "execution_count": 21,
   "id": "358a7c43-faea-483d-84ab-1a1535c7d88b",
   "metadata": {},
   "outputs": [],
   "source": [
    "# モデルをコンパイルします。\n",
    "model = Q.compile()\n",
    "qubo, offset = model.to_qubo()"
   ]
  },
  {
   "cell_type": "code",
   "execution_count": 27,
   "id": "67aa7e40-1c37-4f0e-bf6f-fb36c3c76533",
   "metadata": {},
   "outputs": [],
   "source": [
    "import neal"
   ]
  },
  {
   "cell_type": "code",
   "execution_count": 28,
   "id": "997ec80c-0133-4b86-a9c7-6843dafedeae",
   "metadata": {},
   "outputs": [
    {
     "name": "stdout",
     "output_type": "stream",
     "text": [
      "  x[0][1] x[0][2] x[0][3] x[1][1] x[1][2] x[1][3] ... x[7][3] energy num_oc.\n",
      "0       1       0       0       1       0       0 ...       0   -8.0       1\n",
      "['BINARY', 1 rows, 1 samples, 24 variables]\n"
     ]
    }
   ],
   "source": [
    "sampler = neal.SimulatedAnnealingSampler()\n",
    "raw_solution = sampler.sample_qubo(qubo)\n",
    "print(raw_solution)"
   ]
  },
  {
   "cell_type": "code",
   "execution_count": 37,
   "id": "e8a07c75-18af-4af7-8341-6966967eab54",
   "metadata": {},
   "outputs": [
    {
     "data": {
      "text/plain": [
       "{'x[0][1]': 1,\n",
       " 'x[0][2]': 0,\n",
       " 'x[3][3]': 1,\n",
       " 'x[2][1]': 1,\n",
       " 'x[0][3]': 0,\n",
       " 'x[3][2]': 0,\n",
       " 'x[1][1]': 1,\n",
       " 'x[1][2]': 0,\n",
       " 'x[1][3]': 0,\n",
       " 'x[2][2]': 0,\n",
       " 'x[2][3]': 0,\n",
       " 'x[3][1]': 0,\n",
       " 'x[4][1]': 0,\n",
       " 'x[4][2]': 0,\n",
       " 'x[7][3]': 0,\n",
       " 'x[4][3]': 1,\n",
       " 'x[7][2]': 1,\n",
       " 'x[5][1]': 0,\n",
       " 'x[5][2]': 1,\n",
       " 'x[5][3]': 0,\n",
       " 'x[6][1]': 0,\n",
       " 'x[6][2]': 1,\n",
       " 'x[6][3]': 0,\n",
       " 'x[7][1]': 0}"
      ]
     },
     "execution_count": 37,
     "metadata": {},
     "output_type": "execute_result"
    }
   ],
   "source": [
    "decoded_sample.sample"
   ]
  },
  {
   "cell_type": "code",
   "execution_count": 29,
   "id": "3c1c1a42-43ac-4795-b21f-864478c3e4b7",
   "metadata": {},
   "outputs": [
    {
     "data": {
      "text/plain": [
       "{0: {1: 1, 2: 0, 3: 0},\n",
       " 1: {1: 1, 2: 0, 3: 0},\n",
       " 2: {1: 1, 2: 0, 3: 0},\n",
       " 3: {1: 0, 2: 0, 3: 1},\n",
       " 4: {1: 0, 2: 0, 3: 1},\n",
       " 5: {1: 0, 2: 1, 3: 0},\n",
       " 6: {1: 0, 2: 1, 3: 0},\n",
       " 7: {1: 0, 2: 1, 3: 0}}"
      ]
     },
     "execution_count": 29,
     "metadata": {},
     "output_type": "execute_result"
    }
   ],
   "source": [
    "# 得られた結果をデコードします。\n",
    "decoded_sample = model.decode_sample(raw_solution.first.sample, vartype=\"BINARY\")\n",
    "# さらに解を見やすくする処理を追加します。\n",
    "# .array(変数名, 要素番号)で希望する要素の値を抽出することができます。\n",
    "x_solution = {}\n",
    "for i in range(N_VER):\n",
    "    x_solution[i] = {}\n",
    "    for j in range(1,N_COLOR):\n",
    "        x_solution[i][j] = decoded_sample.array('x', (i, j))\n",
    "x_solution"
   ]
  },
  {
   "cell_type": "code",
   "execution_count": 83,
   "id": "c25639f0-822a-4b87-83d5-a7d6085784be",
   "metadata": {},
   "outputs": [
    {
     "data": {
      "text/plain": [
       "{'x[0][1]': 1,\n",
       " 'x[0][2]': 0,\n",
       " 'x[3][3]': 1,\n",
       " 'x[2][1]': 1,\n",
       " 'x[0][3]': 0,\n",
       " 'x[3][2]': 0,\n",
       " 'x[1][1]': 1,\n",
       " 'x[1][2]': 0,\n",
       " 'x[1][3]': 0,\n",
       " 'x[2][2]': 0,\n",
       " 'x[2][3]': 0,\n",
       " 'x[3][1]': 0,\n",
       " 'x[4][1]': 0,\n",
       " 'x[4][2]': 0,\n",
       " 'x[7][3]': 0,\n",
       " 'x[4][3]': 1,\n",
       " 'x[7][2]': 1,\n",
       " 'x[5][1]': 0,\n",
       " 'x[5][2]': 1,\n",
       " 'x[5][3]': 0,\n",
       " 'x[6][1]': 0,\n",
       " 'x[6][2]': 1,\n",
       " 'x[6][3]': 0,\n",
       " 'x[7][1]': 0}"
      ]
     },
     "execution_count": 83,
     "metadata": {},
     "output_type": "execute_result"
    }
   ],
   "source": [
    "decoded_sample.sample"
   ]
  },
  {
   "cell_type": "code",
   "execution_count": 82,
   "id": "a1d949fa-e36b-4722-beb8-613817b3cdca",
   "metadata": {},
   "outputs": [
    {
     "data": {
      "text/plain": [
       "{}"
      ]
     },
     "execution_count": 82,
     "metadata": {},
     "output_type": "execute_result"
    }
   ],
   "source": [
    "decoded_sample.constraints(only_broken=True)"
   ]
  },
  {
   "cell_type": "code",
   "execution_count": 38,
   "id": "d31c7c75-c959-406a-b3eb-3d9a4b3dbd5f",
   "metadata": {},
   "outputs": [
    {
     "data": {
      "text/plain": [
       "{}"
      ]
     },
     "execution_count": 38,
     "metadata": {},
     "output_type": "execute_result"
    }
   ],
   "source": [
    "decoded_sample.constraints(only_broken=True)"
   ]
  },
  {
   "cell_type": "code",
   "execution_count": 39,
   "id": "ee25c5f6-3ddd-49a6-847b-bed14c7e2a91",
   "metadata": {},
   "outputs": [
    {
     "name": "stdout",
     "output_type": "stream",
     "text": [
      "  x[0][1] x[0][2] x[0][3] x[1][1] x[1][2] x[1][3] ... x[7][3] energy num_oc.\n",
      "0       0       0       1       0       0       1 ...       0   -8.0       1\n",
      "['BINARY', 1 rows, 1 samples, 24 variables]\n"
     ]
    }
   ],
   "source": [
    "# OpenJijをインポートします。\n",
    "import openjij as oj\n",
    "\n",
    "# SQAを用いて問題を解きます。\n",
    "sampler = oj.SQASampler()\n",
    "# QUBOに先ほど.to_quboで作成したものを代入します。\n",
    "response = sampler.sample_qubo(Q=qubo)\n",
    "print(response)"
   ]
  },
  {
   "cell_type": "code",
   "execution_count": 50,
   "id": "67149e3b-d59c-4e95-af5c-f580a3903aea",
   "metadata": {},
   "outputs": [],
   "source": [
    "res = oj.SQASampler(num_sweeps=1000, num_reads=num_reads).sample_qubo(Q=qubo)"
   ]
  },
  {
   "cell_type": "code",
   "execution_count": 53,
   "id": "9f4eecb3-6478-4b32-bfe3-cd72f83d8b1f",
   "metadata": {},
   "outputs": [],
   "source": [
    "# num_sweepsとnum_readsの反復数を与えます。\n",
    "# num_sweeps_list = list(range(10, 51, 10))  # [10, 20, 30, 40, 50]\n",
    "num_sweeps_list = [30, 50, 80, 100, 150, 200]\n",
    "num_reads = 1000\n",
    "\n",
    "# benchmark関数を用いてTTS, 残留エネルギー, 成功確率を計算します。\n",
    "result = oj.solver_benchmark(                  \n",
    "    solver=lambda time, **args: oj.\\\n",
    "    SQASampler(num_sweeps=time, num_reads=num_reads)\\\n",
    "    .sample_qubo(Q=qubo),\n",
    "    solutions = [[]],\n",
    "    time_list=num_sweeps_list, p_r=0.99, \n",
    ")"
   ]
  },
  {
   "cell_type": "code",
   "execution_count": 58,
   "id": "c16859fb-a3b6-4c17-a140-71a509ee1ac9",
   "metadata": {},
   "outputs": [
    {
     "data": {
      "text/plain": [
       "Text(0, 0.5, 'Success probability')"
      ]
     },
     "execution_count": 58,
     "metadata": {},
     "output_type": "execute_result"
    },
    {
     "data": {
      "image/png": "[encoded data removed]",
      "text/plain": [
       "<Figure size 1080x216 with 3 Axes>"
      ]
     },
     "metadata": {
      "needs_background": "light"
     },
     "output_type": "display_data"
    }
   ],
   "source": [
    "fig, (axL,axC,axR) = plt.subplots(ncols=3, figsize=(15,3))\n",
    "plt.subplots_adjust(wspace=0.4)\n",
    "\n",
    "fontsize = 10\n",
    "axL.plot(result['time'], result['tts'])\n",
    "axL.set_xlabel('annealing time', fontsize=fontsize)\n",
    "axL.set_ylabel('TTS', fontsize=fontsize)\n",
    "\n",
    "axC.plot(result['time'], result['residual_energy'])\n",
    "axC.set_xlabel('annealing time', fontsize=fontsize)\n",
    "axC.set_ylabel('Residual energy', fontsize=fontsize)\n",
    "\n",
    "axR.plot(result['time'], result['success_prob'])\n",
    "axR.set_xlabel('annealing time', fontsize=fontsize)\n",
    "axR.set_ylabel('Success probability', fontsize=fontsize)"
   ]
  },
  {
   "cell_type": "code",
   "execution_count": 61,
   "id": "077bb514-7a2c-46a5-a99a-9387459f49d0",
   "metadata": {},
   "outputs": [
    {
     "data": {
      "text/plain": [
       "{0: {1: 1, 2: 0, 3: 0},\n",
       " 1: {1: 1, 2: 0, 3: 0},\n",
       " 2: {1: 1, 2: 0, 3: 0},\n",
       " 3: {1: 0, 2: 0, 3: 1},\n",
       " 4: {1: 0, 2: 0, 3: 1},\n",
       " 5: {1: 0, 2: 1, 3: 0},\n",
       " 6: {1: 0, 2: 1, 3: 0},\n",
       " 7: {1: 0, 2: 1, 3: 0}}"
      ]
     },
     "execution_count": 61,
     "metadata": {},
     "output_type": "execute_result"
    }
   ],
   "source": [
    "# エネルギーが一番低い状態を取り出します。\n",
    "dict_solution = response.first.sample\n",
    "# 得られた結果をデコードします。\n",
    "decoded_sample = model.decode_sample(raw_solution.first.sample, vartype=\"BINARY\")\n",
    "# さらに解を見やすくする処理を追加します。\n",
    "# .array(変数名, 要素番号)で希望する要素の値を抽出することができます。\n",
    "x_solution = {}\n",
    "for i in range(N_VER):\n",
    "    x_solution[i] = {}\n",
    "    for j in range(1,N_COLOR):\n",
    "        x_solution[i][j] = decoded_sample.array('x', (i, j))\n",
    "x_solution"
   ]
  },
  {
   "cell_type": "code",
   "execution_count": 78,
   "id": "c8af4fa8-3fd3-4d08-a95d-19e6cfd398f9",
   "metadata": {},
   "outputs": [],
   "source": [
    "def show_qubo(qubo, cmap=cm.GnBu, save_path=None):\n",
    "    n_qubo = max(sorted(qubo.keys())[-1][0], sorted(qubo.keys(), key=lambda x: x[1])[-1][1]) + 1\n",
    "\n",
    "    np_qubo = np.zeros((n_qubo, n_qubo))\n",
    "    for (pos_x, pos_y), coeff in qubo.items():\n",
    "        np_qubo[pos_x][pos_y] = coeff\n",
    "\n",
    "    plt.imshow(np_qubo, cmap=cmap)\n",
    "    plt.colorbar()\n",
    "    if save_path is not None:\n",
    "        plt.savefig(save_path)\n",
    "    plt.show()"
   ]
  }
 ],
 "metadata": {
  "kernelspec": {
   "display_name": "qcomputing",
   "language": "python",
   "name": "qcomputing"
  },
  "language_info": {
   "codemirror_mode": {
    "name": "ipython",
    "version": 3
   },
   "file_extension": ".py",
   "mimetype": "text/x-python",
   "name": "python",
   "nbconvert_exporter": "python",
   "pygments_lexer": "ipython3",
   "version": "3.8.12"
  }
 },
 "nbformat": 4,
 "nbformat_minor": 5
}
