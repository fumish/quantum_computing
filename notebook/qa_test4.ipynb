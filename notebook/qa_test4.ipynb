{
 "cells": [
  {
   "cell_type": "code",
   "execution_count": 1,
   "id": "d1ffbcd9-84bc-4ef9-92f2-34e9ea4262a5",
   "metadata": {},
   "outputs": [],
   "source": [
    "%matplotlib inline"
   ]
  },
  {
   "cell_type": "code",
   "execution_count": 5,
   "id": "a2433447-8edb-4f48-a05f-75987f734b51",
   "metadata": {},
   "outputs": [],
   "source": [
    "import matplotlib.pyplot as plt\n",
    "import matplotlib.cm as cm\n",
    "import numpy as np"
   ]
  },
  {
   "cell_type": "code",
   "execution_count": null,
   "id": "6c4410e7-fe64-4d47-b05f-1834e4f12628",
   "metadata": {},
   "outputs": [],
   "source": [
    "# 整数の集合を定義します。\n",
    "C = [2, 10, 3, 8, 5, 7, 9, 5, 3, 2]\n",
    "N = len(C)\n",
    "\n"
   ]
  },
  {
   "cell_type": "code",
   "execution_count": 4,
   "id": "7294298e-9df0-4647-a35e-0a8d6315ce5b",
   "metadata": {},
   "outputs": [],
   "source": [
    "# 上で求めたQ_{ii}, Q_{ij}を{(i, j): Q_{ij}}のような辞書型で定義します。\n",
    "Q = {}\n",
    "for i in range(N):\n",
    "    Q[i, i] = 4 * C[i] * (C[i] - sum(C))\n",
    "    for j in range(i + 1, N):\n",
    "        Q[i, j] = 8 * C[i] * C[j]"
   ]
  },
  {
   "cell_type": "code",
   "execution_count": 6,
   "id": "3237f181-0c26-495d-b136-1d15a7484c2e",
   "metadata": {},
   "outputs": [],
   "source": [
    "def show_qubo(qubo, cmap=cm.GnBu, save_path=None):\n",
    "    n_qubo = max(sorted(qubo.keys())[-1][0], sorted(qubo.keys(), key=lambda x: x[1])[-1][1]) + 1\n",
    "\n",
    "    np_qubo = np.zeros((n_qubo, n_qubo))\n",
    "    for (pos_x, pos_y), coeff in qubo.items():\n",
    "        np_qubo[pos_x][pos_y] = coeff\n",
    "\n",
    "    plt.imshow(np_qubo, cmap=cmap)\n",
    "    plt.colorbar()\n",
    "    if save_path is not None:\n",
    "        plt.savefig(save_path)\n",
    "    plt.show()"
   ]
  },
  {
   "cell_type": "code",
   "execution_count": 7,
   "id": "80b67d80-a61a-4f8d-a974-d6f76b646462",
   "metadata": {},
   "outputs": [
    {
     "data": {
      "image/png": "[encoded data removed]",
      "text/plain": [
       "<Figure size 432x288 with 2 Axes>"
      ]
     },
     "metadata": {
      "needs_background": "light"
     },
     "output_type": "display_data"
    }
   ],
   "source": [
    "show_qubo(Q)"
   ]
  },
  {
   "cell_type": "code",
   "execution_count": 8,
   "id": "43936d2d-9da2-4f9a-9a1c-ae380369e5b0",
   "metadata": {},
   "outputs": [],
   "source": [
    "# h_iとJ_ijを定義します。\n",
    "h = {}\n",
    "J = {}\n",
    "for i in range(N):\n",
    "    h[i] = 0\n",
    "    for j in range(i + 1, N):\n",
    "        J[i, j] = 2 * C[i] * C[j]\n",
    "\n"
   ]
  },
  {
   "cell_type": "code",
   "execution_count": 10,
   "id": "c9eccd0e-c21b-4f70-a96a-e53a8067dc1f",
   "metadata": {},
   "outputs": [],
   "source": [
    "import dimod"
   ]
  },
  {
   "cell_type": "code",
   "execution_count": 24,
   "id": "c9118f26-593c-4585-8daf-295fa9f8729a",
   "metadata": {},
   "outputs": [],
   "source": [
    "# イジングモデルからQUBOへの変換を行います。\n",
    "model = dimod.BinaryQuadraticModel(h, J, 0.0, vartype='SPIN')\n",
    "qubo, offset = model.to_qubo()"
   ]
  },
  {
   "cell_type": "code",
   "execution_count": 13,
   "id": "5020ec76-bb57-4c99-948e-d99df76e021e",
   "metadata": {},
   "outputs": [
    {
     "data": {
      "image/png": "[encoded data removed]",
      "text/plain": [
       "<Figure size 432x288 with 2 Axes>"
      ]
     },
     "metadata": {
      "needs_background": "light"
     },
     "output_type": "display_data"
    }
   ],
   "source": [
    "show_qubo(qubo)"
   ]
  },
  {
   "cell_type": "code",
   "execution_count": 30,
   "id": "a7fe686f-f28e-4e8c-b1b9-aa4d09e88c69",
   "metadata": {},
   "outputs": [],
   "source": [
    "from dwave.system.samplers import DWaveSampler\n",
    "from dwave.system.composites import EmbeddingComposite"
   ]
  },
  {
   "cell_type": "code",
   "execution_count": 31,
   "id": "8fb7de13-d239-4efe-ab54-45b3976541d2",
   "metadata": {},
   "outputs": [],
   "source": [
    "from dwave.cloud import Client"
   ]
  },
  {
   "cell_type": "code",
   "execution_count": 34,
   "id": "f2894d20-a91d-4924-bc80-c831c34688d1",
   "metadata": {},
   "outputs": [],
   "source": [
    "# 接続情報をオプションとして渡す場合は以下のようにします。\n",
    "solver = 'DW_2000Q_6'"
   ]
  },
  {
   "cell_type": "code",
   "execution_count": 35,
   "id": "83ba8e1e-564a-4c46-8d5c-cf0d6d7cf7a2",
   "metadata": {},
   "outputs": [],
   "source": [
    "dw = DWaveSampler(solver=solver)"
   ]
  },
  {
   "cell_type": "code",
   "execution_count": 37,
   "id": "47d87c5f-8ec5-47f1-b90e-3e7bcbbaf50c",
   "metadata": {},
   "outputs": [],
   "source": [
    "sampler = EmbeddingComposite(dw)"
   ]
  },
  {
   "cell_type": "code",
   "execution_count": 73,
   "id": "47ec4813-3b4e-4eb6-8373-421c569fb65a",
   "metadata": {},
   "outputs": [],
   "source": [
    "response_test = sampler.sample_qubo(qubo_test, num_reads=100)"
   ]
  },
  {
   "cell_type": "code",
   "execution_count": 51,
   "id": "12437e8e-75b1-4b75-b00b-2c0ff0f8f59b",
   "metadata": {},
   "outputs": [],
   "source": [
    "response = sampler.sample_ising(h, J, num_reads=100)"
   ]
  },
  {
   "cell_type": "code",
   "execution_count": 40,
   "id": "015aaab2-a3ab-4e9e-b9cd-765012ea25df",
   "metadata": {},
   "outputs": [],
   "source": [
    "def calcurate_energy(solution, vartype='BINARY'):\n",
    "    if vartype == 'BINARY':\n",
    "        ene = sum(C) ** 2  # offset\n",
    "        for i in range(N):\n",
    "            ene += Q[i, i] * solution[i]\n",
    "            for j in range(i + 1, N):\n",
    "                ene += Q[i, j] * solution[i] * solution[j]\n",
    "    elif vartype == 'SPIN':\n",
    "        ene = sum(C[i] ** 2 for i in range(N))\n",
    "        for i in range(N):\n",
    "            for j in range(i + 1, N):\n",
    "                ene += J[i, j] * solution[i] * solution[j]\n",
    "    else:\n",
    "        raise ValueError(\"vartype mast be 'BINARY' or 'SPIN'.\")\n",
    "\n",
    "    return ene"
   ]
  },
  {
   "cell_type": "code",
   "execution_count": 61,
   "id": "405e834b-5b61-4c74-9efa-534d11e6dd80",
   "metadata": {},
   "outputs": [],
   "source": [
    "# 最適解が出た回数を数え上げます。\n",
    "num_optimal_sol = 0\n",
    "optimal_sol = []\n",
    "twenty_sol = []\n",
    "for state in response.record:\n",
    "    # .recordの0番目が状態のリスト、2番目がその状態の出現回数です。\n",
    "    solution = state[0]\n",
    "    num_oc = state[2]\n",
    "    # エネルギーを計算します。\n",
    "    energy = calcurate_energy(solution, vartype='SPIN')\n",
    "    # エネルギー(総和の差)が0のときを数え上げます。\n",
    "    if energy == 0.0:\n",
    "        num_optimal_sol += num_oc\n",
    "        optimal_sol.append(solution)\n",
    "    # 20 µsの結果を保存しておきます(あとで使用します)。\n",
    "    twenty_sol.append(solution)"
   ]
  },
  {
   "cell_type": "code",
   "execution_count": 62,
   "id": "55c8d599-4045-4406-aeea-9c9785930d0d",
   "metadata": {},
   "outputs": [
    {
     "data": {
      "text/plain": [
       "16"
      ]
     },
     "execution_count": 62,
     "metadata": {},
     "output_type": "execute_result"
    }
   ],
   "source": [
    "num_optimal_sol"
   ]
  },
  {
   "cell_type": "code",
   "execution_count": 79,
   "id": "1d7647a0-2367-465b-88f2-a98c771383ac",
   "metadata": {},
   "outputs": [
    {
     "data": {
      "text/plain": [
       "{'timing': {'qpu_sampling_time': 23894.0,\n",
       "  'qpu_anneal_time_per_sample': 20.0,\n",
       "  'qpu_readout_time_per_sample': 198.4,\n",
       "  'qpu_access_time': 34719.1,\n",
       "  'qpu_access_overhead_time': 1907.9,\n",
       "  'qpu_programming_time': 10825.1,\n",
       "  'qpu_delay_time_per_sample': 20.54,\n",
       "  'post_processing_overhead_time': 146.0,\n",
       "  'total_post_processing_time': 146.0},\n",
       " 'problem_id': '36c0c4a1-3173-4850-b151-f017ba392343'}"
      ]
     },
     "execution_count": 79,
     "metadata": {},
     "output_type": "execute_result"
    }
   ],
   "source": [
    "response.info"
   ]
  },
  {
   "cell_type": "code",
   "execution_count": 77,
   "id": "6db2ed3a-a840-441f-8ad7-482e801be81e",
   "metadata": {},
   "outputs": [
    {
     "name": "stdout",
     "output_type": "stream",
     "text": [
      "[1 1 0 1 0 0 0 1 0 1]\n",
      "Group A:  [2, 10, 8, 5, 2] , Sum =  27\n",
      "Group B:  [] , Sum =  0\n",
      "[1 1 0 1 1 0 0 0 0 1]\n",
      "Group A:  [2, 10, 8, 5, 2] , Sum =  27\n",
      "Group B:  [] , Sum =  0\n",
      "[0 0 0 1 1 0 1 0 1 1]\n",
      "Group A:  [8, 5, 9, 3, 2] , Sum =  27\n",
      "Group B:  [] , Sum =  0\n",
      "[0 0 1 0 1 1 1 0 1 0]\n",
      "Group A:  [3, 5, 7, 9, 3] , Sum =  27\n",
      "Group B:  [] , Sum =  0\n",
      "[1 1 0 0 1 0 0 1 1 1]\n",
      "Group A:  [2, 10, 5, 5, 3, 2] , Sum =  27\n",
      "Group B:  [] , Sum =  0\n",
      "[0 1 0 0 0 1 0 1 1 1]\n",
      "Group A:  [10, 7, 5, 3, 2] , Sum =  27\n",
      "Group B:  [] , Sum =  0\n",
      "[1 0 1 1 1 0 1 0 0 0]\n",
      "Group A:  [2, 3, 8, 5, 9] , Sum =  27\n",
      "Group B:  [] , Sum =  0\n",
      "[1 0 1 1 1 0 1 0 0 0]\n",
      "Group A:  [2, 3, 8, 5, 9] , Sum =  27\n",
      "Group B:  [] , Sum =  0\n",
      "[0 1 0 0 0 1 0 1 1 1]\n",
      "Group A:  [10, 7, 5, 3, 2] , Sum =  27\n",
      "Group B:  [] , Sum =  0\n",
      "[0 1 0 0 0 1 0 1 1 1]\n",
      "Group A:  [10, 7, 5, 3, 2] , Sum =  27\n",
      "Group B:  [] , Sum =  0\n"
     ]
    }
   ],
   "source": [
    "for solution in optimal_sol:\n",
    "    group_A = [C[i] for i, s in enumerate(solution) if s==1]\n",
    "    group_B = [C[i] for i, s in enumerate(solution) if s==-1]\n",
    "    print(solution)\n",
    "    print('Group A: ', group_A, ', Sum = ', sum(group_A))\n",
    "    print('Group B: ', group_B, ', Sum = ', sum(group_B))"
   ]
  },
  {
   "cell_type": "code",
   "execution_count": 78,
   "id": "925eb021-259c-4a3b-9f42-a1766a7cb2ac",
   "metadata": {},
   "outputs": [
    {
     "data": {
      "text/plain": [
       "{'energy': array([-270., -270., -370., -370., -370., -370., -370., -370., -370.,\n",
       "        -370., -370., -370., -370., -366., -366., -366., -366., -366.,\n",
       "        -366., -366., -366., -366., -366., -366., -366., -366., -174.,\n",
       "        -174., -354., -354., -354., -354., -354., -354., -354., -354.,\n",
       "        -354., -354., -354., -354., -354., -354., -354., -370., -354.,\n",
       "        -334., -334., -334., -334., -334., -334., -334., -334., -334.,\n",
       "        -334., -370., -354., -306., -306., -306., -306., -306., -306.,\n",
       "        -270., -270., -270., -226., -226.]),\n",
       " 'num_occurrences': array([ 6, 15,  1,  1,  2,  1,  1,  1,  1,  1,  1,  2,  1,  1,  1,  1,  1,\n",
       "         1,  1,  1,  1,  1,  2,  1,  1,  1,  2,  1,  1,  1,  1,  2,  1,  1,\n",
       "         1,  1,  1,  1,  1,  1,  1,  2,  1,  2,  2,  1,  1,  1,  1,  1,  2,\n",
       "         1,  1,  1,  2,  1,  1,  3,  1,  1,  1,  2,  1,  1,  1,  1,  1,  1]),\n",
       " 'chain_break_fraction': array([0.1, 0.1, 0. , 0. , 0. , 0. , 0. , 0. , 0. , 0. , 0. , 0. , 0. ,\n",
       "        0. , 0. , 0. , 0. , 0. , 0. , 0. , 0. , 0. , 0. , 0. , 0. , 0. ,\n",
       "        0.1, 0.1, 0. , 0. , 0. , 0. , 0. , 0. , 0. , 0. , 0. , 0. , 0. ,\n",
       "        0. , 0. , 0. , 0. , 0.1, 0.1, 0. , 0. , 0. , 0. , 0. , 0. , 0. ,\n",
       "        0. , 0. , 0. , 0.1, 0.1, 0. , 0. , 0. , 0. , 0. , 0. , 0.2, 0. ,\n",
       "        0. , 0. , 0.1])}"
      ]
     },
     "execution_count": 78,
     "metadata": {},
     "output_type": "execute_result"
    }
   ],
   "source": [
    "response.data_vectors"
   ]
  },
  {
   "cell_type": "code",
   "execution_count": 75,
   "id": "889c2cc0-10eb-4505-b0ea-5a7ba9b73d37",
   "metadata": {},
   "outputs": [],
   "source": [
    "# 最適解が出た回数を数え上げます。\n",
    "num_optimal_sol = 0\n",
    "optimal_sol = []\n",
    "twenty_sol = []\n",
    "for state in response_test.record:\n",
    "    # .recordの0番目が状態のリスト、2番目がその状態の出現回数です。\n",
    "    solution = state[0]\n",
    "    num_oc = state[2]\n",
    "    # エネルギーを計算します。\n",
    "    energy = calcurate_energy(solution, vartype='BINARY')\n",
    "    # エネルギー(総和の差)が0のときを数え上げます。\n",
    "    if energy == 0.0:\n",
    "        num_optimal_sol += num_oc\n",
    "        optimal_sol.append(solution)\n",
    "    # 20 µsの結果を保存しておきます(あとで使用します)。\n",
    "    twenty_sol.append(solution)"
   ]
  },
  {
   "cell_type": "code",
   "execution_count": 80,
   "id": "6c45f2db-aeb6-4e08-b074-0fcab65b95c9",
   "metadata": {},
   "outputs": [],
   "source": [
    "# イジングモデルの場合は以下を用います。\n",
    "response = sampler.sample_ising(h, J, num_reads=100, annealing_time=50)\n",
    "\n",
    "# QUBOの場合は以下を用います。\n",
    "# response = sampler.sample_qubo(Q, num_reads=100, annealing_time=50)"
   ]
  },
  {
   "cell_type": "code",
   "execution_count": 81,
   "id": "1ffaa114-2216-47ef-8504-62ae28eea00c",
   "metadata": {},
   "outputs": [],
   "source": [
    "# 最適解が出た回数を数え上げます。\n",
    "num_optimal_sol = 0\n",
    "optimal_sol = []\n",
    "fifty_sol = []\n",
    "for state in response.record:\n",
    "    # .recordの0番目が状態のリスト、2番目がその状態の出現回数です。\n",
    "    solution = state[0]\n",
    "    num_oc = state[2]\n",
    "    # エネルギーを計算します。\n",
    "    energy = calcurate_energy(solution, vartype='SPIN')\n",
    "    # エネルギー(総和の差)が0のときを数え上げます。\n",
    "    if energy == 0.0:\n",
    "        num_optimal_sol += num_oc\n",
    "        optimal_sol.append(solution)\n",
    "    # 50µsでの実行結果を保存します。\n",
    "    fifty_sol.append(solution)"
   ]
  },
  {
   "cell_type": "code",
   "execution_count": 84,
   "id": "d698b4c1-7132-433b-a640-cf31e2fdcec8",
   "metadata": {},
   "outputs": [
    {
     "data": {
      "text/plain": [
       "6"
      ]
     },
     "execution_count": 84,
     "metadata": {},
     "output_type": "execute_result"
    }
   ],
   "source": [
    "num_optimal_sol"
   ]
  },
  {
   "cell_type": "markdown",
   "id": "9187056c-f3a3-4722-977b-10e53ebe7257",
   "metadata": {},
   "source": [
    "# QUBOライブラリを使ってみる"
   ]
  },
  {
   "cell_type": "code",
   "execution_count": 14,
   "id": "4429ce8d-338c-4f54-a1b3-40a56d339edd",
   "metadata": {},
   "outputs": [],
   "source": [
    "from pyqubo import Array, Constraint, solve_qubo"
   ]
  },
  {
   "cell_type": "code",
   "execution_count": 67,
   "id": "fdcc671a-561c-45f1-a542-4820f1906a7e",
   "metadata": {},
   "outputs": [],
   "source": [
    "x = Array.create('x', shape=(N), vartype='BINARY')"
   ]
  },
  {
   "cell_type": "code",
   "execution_count": 69,
   "id": "9c29121c-360b-4cef-a644-00c40e29ee7b",
   "metadata": {},
   "outputs": [],
   "source": [
    "Q_test = sum(x)"
   ]
  },
  {
   "cell_type": "code",
   "execution_count": 70,
   "id": "833b008d-b7dd-4721-935d-8272cb13f3b9",
   "metadata": {},
   "outputs": [],
   "source": [
    "model_test = Q_test.compile()\n",
    "qubo_test, offset = model.to_qubo()"
   ]
  },
  {
   "cell_type": "code",
   "execution_count": 23,
   "id": "ac784aa4-cc2e-4164-a3a5-bc39ca2e4f5a",
   "metadata": {},
   "outputs": [
    {
     "ename": "TypeError",
     "evalue": "can only concatenate str (not \"int\") to str",
     "output_type": "error",
     "traceback": [
      "\u001b[1;31m---------------------------------------------------------------------------\u001b[0m",
      "\u001b[1;31mTypeError\u001b[0m                                 Traceback (most recent call last)",
      "\u001b[1;32m~\\AppData\\Local\\Temp/ipykernel_3140/2525763573.py\u001b[0m in \u001b[0;36m<module>\u001b[1;34m\u001b[0m\n\u001b[1;32m----> 1\u001b[1;33m \u001b[0mshow_qubo\u001b[0m\u001b[1;33m(\u001b[0m\u001b[0mqubo\u001b[0m\u001b[1;33m)\u001b[0m\u001b[1;33m\u001b[0m\u001b[1;33m\u001b[0m\u001b[0m\n\u001b[0m",
      "\u001b[1;32m~\\AppData\\Local\\Temp/ipykernel_3140/3213691925.py\u001b[0m in \u001b[0;36mshow_qubo\u001b[1;34m(qubo, cmap, save_path)\u001b[0m\n\u001b[0;32m      1\u001b[0m \u001b[1;32mdef\u001b[0m \u001b[0mshow_qubo\u001b[0m\u001b[1;33m(\u001b[0m\u001b[0mqubo\u001b[0m\u001b[1;33m,\u001b[0m \u001b[0mcmap\u001b[0m\u001b[1;33m=\u001b[0m\u001b[0mcm\u001b[0m\u001b[1;33m.\u001b[0m\u001b[0mGnBu\u001b[0m\u001b[1;33m,\u001b[0m \u001b[0msave_path\u001b[0m\u001b[1;33m=\u001b[0m\u001b[1;32mNone\u001b[0m\u001b[1;33m)\u001b[0m\u001b[1;33m:\u001b[0m\u001b[1;33m\u001b[0m\u001b[1;33m\u001b[0m\u001b[0m\n\u001b[1;32m----> 2\u001b[1;33m     \u001b[0mn_qubo\u001b[0m \u001b[1;33m=\u001b[0m \u001b[0mmax\u001b[0m\u001b[1;33m(\u001b[0m\u001b[0msorted\u001b[0m\u001b[1;33m(\u001b[0m\u001b[0mqubo\u001b[0m\u001b[1;33m.\u001b[0m\u001b[0mkeys\u001b[0m\u001b[1;33m(\u001b[0m\u001b[1;33m)\u001b[0m\u001b[1;33m)\u001b[0m\u001b[1;33m[\u001b[0m\u001b[1;33m-\u001b[0m\u001b[1;36m1\u001b[0m\u001b[1;33m]\u001b[0m\u001b[1;33m[\u001b[0m\u001b[1;36m0\u001b[0m\u001b[1;33m]\u001b[0m\u001b[1;33m,\u001b[0m \u001b[0msorted\u001b[0m\u001b[1;33m(\u001b[0m\u001b[0mqubo\u001b[0m\u001b[1;33m.\u001b[0m\u001b[0mkeys\u001b[0m\u001b[1;33m(\u001b[0m\u001b[1;33m)\u001b[0m\u001b[1;33m,\u001b[0m \u001b[0mkey\u001b[0m\u001b[1;33m=\u001b[0m\u001b[1;32mlambda\u001b[0m \u001b[0mx\u001b[0m\u001b[1;33m:\u001b[0m \u001b[0mx\u001b[0m\u001b[1;33m[\u001b[0m\u001b[1;36m1\u001b[0m\u001b[1;33m]\u001b[0m\u001b[1;33m)\u001b[0m\u001b[1;33m[\u001b[0m\u001b[1;33m-\u001b[0m\u001b[1;36m1\u001b[0m\u001b[1;33m]\u001b[0m\u001b[1;33m[\u001b[0m\u001b[1;36m1\u001b[0m\u001b[1;33m]\u001b[0m\u001b[1;33m)\u001b[0m \u001b[1;33m+\u001b[0m \u001b[1;36m1\u001b[0m\u001b[1;33m\u001b[0m\u001b[1;33m\u001b[0m\u001b[0m\n\u001b[0m\u001b[0;32m      3\u001b[0m \u001b[1;33m\u001b[0m\u001b[0m\n\u001b[0;32m      4\u001b[0m     \u001b[0mnp_qubo\u001b[0m \u001b[1;33m=\u001b[0m \u001b[0mnp\u001b[0m\u001b[1;33m.\u001b[0m\u001b[0mzeros\u001b[0m\u001b[1;33m(\u001b[0m\u001b[1;33m(\u001b[0m\u001b[0mn_qubo\u001b[0m\u001b[1;33m,\u001b[0m \u001b[0mn_qubo\u001b[0m\u001b[1;33m)\u001b[0m\u001b[1;33m)\u001b[0m\u001b[1;33m\u001b[0m\u001b[1;33m\u001b[0m\u001b[0m\n\u001b[0;32m      5\u001b[0m     \u001b[1;32mfor\u001b[0m \u001b[1;33m(\u001b[0m\u001b[0mpos_x\u001b[0m\u001b[1;33m,\u001b[0m \u001b[0mpos_y\u001b[0m\u001b[1;33m)\u001b[0m\u001b[1;33m,\u001b[0m \u001b[0mcoeff\u001b[0m \u001b[1;32min\u001b[0m \u001b[0mqubo\u001b[0m\u001b[1;33m.\u001b[0m\u001b[0mitems\u001b[0m\u001b[1;33m(\u001b[0m\u001b[1;33m)\u001b[0m\u001b[1;33m:\u001b[0m\u001b[1;33m\u001b[0m\u001b[1;33m\u001b[0m\u001b[0m\n",
      "\u001b[1;31mTypeError\u001b[0m: can only concatenate str (not \"int\") to str"
     ]
    }
   ],
   "source": [
    "show_qubo(qubo)"
   ]
  },
  {
   "cell_type": "code",
   "execution_count": 21,
   "id": "86099b0e-efaa-478f-9617-71418b55642f",
   "metadata": {},
   "outputs": [
    {
     "data": {
      "text/plain": [
       "{('x[2]', 'x[2]'): 2.0,\n",
       " ('x[9]', 'x[9]'): 2.0,\n",
       " ('x[8]', 'x[8]'): 2.0,\n",
       " ('x[7]', 'x[7]'): 2.0,\n",
       " ('x[3]', 'x[3]'): 2.0,\n",
       " ('x[6]', 'x[6]'): 2.0,\n",
       " ('x[5]', 'x[5]'): 2.0,\n",
       " ('x[4]', 'x[4]'): 2.0,\n",
       " ('x[0]', 'x[0]'): 2.0,\n",
       " ('x[1]', 'x[1]'): 2.0}"
      ]
     },
     "execution_count": 21,
     "metadata": {},
     "output_type": "execute_result"
    }
   ],
   "source": [
    "qubo"
   ]
  },
  {
   "cell_type": "code",
   "execution_count": 19,
   "id": "70cab09b-6296-47a2-8357-873665456d43",
   "metadata": {},
   "outputs": [
    {
     "data": {
      "text/plain": [
       "Model(CompiledQubo(PlMonoPoly(2.000000*CoeffProd())*Prod(1)+PlMonoPoly(-10.000000*CoeffProd())*Prod()+PlMonoPoly(2.000000*CoeffProd())*Prod(2)+PlMonoPoly(2.000000*CoeffProd())*Prod(3)+PlMonoPoly(2.000000*CoeffProd())*Prod(4)+PlMonoPoly(2.000000*CoeffProd())*Prod(5)+PlMonoPoly(2.000000*CoeffProd())*Prod(6)+PlMonoPoly(2.000000*CoeffProd())*Prod(7)+PlMonoPoly(2.000000*CoeffProd())*Prod(8)+PlMonoPoly(2.000000*CoeffProd())*Prod(9)+PlMonoPoly(2.000000*CoeffProd())*Prod(10)), SubHs=[])"
      ]
     },
     "execution_count": 19,
     "metadata": {},
     "output_type": "execute_result"
    }
   ],
   "source": [
    "Q_test.compile()"
   ]
  },
  {
   "cell_type": "code",
   "execution_count": null,
   "id": "1b931fe7-085f-41bb-82e2-612f37f88dc3",
   "metadata": {},
   "outputs": [],
   "source": [
    "# 第一項 (制約項)を定義します。\n",
    "H_A = Constraint(sum((1-sum(x[v,i] for i in range(1,N_COLOR)))**2 for v in range(N_VER)), label='HA')\n",
    "# 第二項 (コスト、目的関数)を定義します。\n",
    "H_B = sum((-1+sum(x[v,i] for v in range (N_VER)))/2*(sum(x[v,i] for v in range (N_VER))) - sum(x[u,i]*x[v,i] for (u,v) in graph) for i in range (1,N_COLOR))\n",
    "# ハミルトニアン全体を定義します。\n",
    "Q = H_A+H_B"
   ]
  }
 ],
 "metadata": {
  "kernelspec": {
   "display_name": "qcomputing",
   "language": "python",
   "name": "qcomputing"
  },
  "language_info": {
   "codemirror_mode": {
    "name": "ipython",
    "version": 3
   },
   "file_extension": ".py",
   "mimetype": "text/x-python",
   "name": "python",
   "nbconvert_exporter": "python",
   "pygments_lexer": "ipython3",
   "version": "3.8.12"
  }
 },
 "nbformat": 4,
 "nbformat_minor": 5
}
