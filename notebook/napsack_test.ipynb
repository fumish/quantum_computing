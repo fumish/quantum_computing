{
 "cells": [
  {
   "cell_type": "code",
   "execution_count": 1,
   "id": "9c49fe5e-3b8f-40ed-a007-32b13b4cdd83",
   "metadata": {},
   "outputs": [],
   "source": [
    "%matplotlib inline"
   ]
  },
  {
   "cell_type": "code",
   "execution_count": 2,
   "id": "b2fd3cf4-f92d-4111-9594-7c990e490d9e",
   "metadata": {},
   "outputs": [],
   "source": [
    "import math\n",
    "\n",
    "import openjij as oj\n",
    "from pyqubo import Array, Constraint, LogEncInteger, solve_qubo"
   ]
  },
  {
   "cell_type": "code",
   "execution_count": 3,
   "id": "25f7dcd0-c3c9-4d50-ba78-a46158e34d82",
   "metadata": {
    "lines_to_next_cell": 2
   },
   "outputs": [],
   "source": [
    "W = 20\n",
    "c = {0: 5, 1: 7, 2: 2, 3: 1, 4: 4, 5: 3}\n",
    "w = {0: 8, 1: 10, 2: 6, 3: 4, 4: 5, 5: 3}\n",
    "N = len(w)"
   ]
  },
  {
   "cell_type": "code",
   "execution_count": 16,
   "id": "ddacf49e-f91b-4988-ab1e-aab94ef8475e",
   "metadata": {},
   "outputs": [],
   "source": [
    "E = 1"
   ]
  },
  {
   "cell_type": "code",
   "execution_count": 17,
   "id": "e3e15bbb-396e-4e50-a060-40796f793612",
   "metadata": {},
   "outputs": [],
   "source": [
    "x = Array.create(\"x\", shape=(N), vartype=\"BINARY\")\n",
    "y = LogEncInteger(\"y\", (0, W))\n",
    "z = LogEncInteger(\"z\", (0, E))"
   ]
  },
  {
   "cell_type": "code",
   "execution_count": 18,
   "id": "a4c4c3be-d46d-417e-bdc1-d1804853fbbd",
   "metadata": {},
   "outputs": [],
   "source": [
    "key1 = max(c, key=lambda k: c[k])\n",
    "B = 40\n",
    "A = 10 * B * c[key1]\n",
    "\n",
    "HA1 = Constraint(A * (W - sum(w[a] * x[a] for a in range(N)) - y) ** 2, label=\"HA1\")\n",
    "HA2 = Constraint(A * (E + z - sum(x)) ** 2, label=\"HA2\")\n",
    "\n",
    "HB = -B * sum(c[a] * x[a] for a in range(N))"
   ]
  },
  {
   "cell_type": "code",
   "execution_count": 19,
   "id": "3372d380-97ba-4125-82fb-92f09dc09ad5",
   "metadata": {},
   "outputs": [],
   "source": [
    "H = HA1 + HA2 + HB\n",
    "Q = H\n",
    "model = Q.compile()\n",
    "q, offset = model.to_qubo()\n",
    "\n",
    "sampler = oj.SQASampler(num_reads=100)\n",
    "sampleset = sampler.sample_qubo(q)\n",
    "decoded_sample = model.decode_sample(sampleset.first.sample, vartype=\"BINARY\")"
   ]
  },
  {
   "cell_type": "code",
   "execution_count": 20,
   "id": "8b0f5346-f7a6-41d7-8d36-38a68d5fb1fa",
   "metadata": {},
   "outputs": [
    {
     "name": "stdout",
     "output_type": "stream",
     "text": [
      "\n",
      "[Results]\n",
      "\n",
      "decoded_sample.sample:\n",
      "{'y[1]': 1, 'x[0]': 1, 'y[0]': 0, 'x[1]': 1, 'x[2]': 0, 'x[3]': 0, 'x[4]': 0, 'x[5]': 0, 'y[2]': 0, 'y[3]': 0, 'y[4]': 0, 'z[0]': 1}\n",
      "\n",
      "x (選ばれた宝物) :\n",
      "宝物A\n",
      "宝物B\n",
      "\n",
      "スラック変数Y = 2\n",
      "\n",
      "broken\n",
      "{}\n",
      "合計の重さ : 1.8kg\n",
      "合計の価格 : $12,000\n"
     ]
    }
   ],
   "source": [
    "print()\n",
    "print(\"[Results]\")\n",
    "print()\n",
    "print(\"decoded_sample.sample:\")\n",
    "print(decoded_sample.sample)\n",
    "print()\n",
    "print(\"x (選ばれた宝物) :\")\n",
    "\n",
    "treasures = [\"A\", \"B\", \"C\", \"D\", \"E\", \"F\", \"G\"]\n",
    "weight = 0\n",
    "cost = 0\n",
    "\n",
    "for k in range(N):\n",
    "    if decoded_sample.array(\"x\", k) != 0:\n",
    "        print(\"宝物\" + treasures[k])\n",
    "        weight += w[k]\n",
    "        cost += c[k]\n",
    "\n",
    "\n",
    "sol_y = sum(\n",
    "    2**k * v\n",
    "    for k, v in [\n",
    "        (elem, decoded_sample.array(\"y\", elem))\n",
    "        for elem in range(math.ceil(math.log2(W)))\n",
    "    ]\n",
    ")\n",
    "\n",
    "print()\n",
    "print(\"スラック変数Y = {}\".format(sol_y))\n",
    "print()\n",
    "print(\"broken\")\n",
    "print(decoded_sample.constraints(only_broken=True))\n",
    "print(\"合計の重さ : \" + str(weight / 10) + \"kg\")\n",
    "print(\"合計の価格 : $\" + str(cost) + \",000\")"
   ]
  },
  {
   "cell_type": "code",
   "execution_count": null,
   "id": "94f07c41-dc6f-47f8-999c-ffc5b2f7783a",
   "metadata": {},
   "outputs": [],
   "source": []
  },
  {
   "cell_type": "code",
   "execution_count": 10,
   "id": "0fc21e7c-a716-43be-89a3-aeb899d68fb7",
   "metadata": {},
   "outputs": [
    {
     "data": {
      "text/plain": [
       "20"
      ]
     },
     "execution_count": 10,
     "metadata": {},
     "output_type": "execute_result"
    }
   ],
   "source": [
    "W"
   ]
  },
  {
   "cell_type": "code",
   "execution_count": 18,
   "id": "1d9dc121-0cf3-4de4-b4d8-9e952d0fde7b",
   "metadata": {
    "lines_to_next_cell": 0
   },
   "outputs": [
    {
     "name": "stdout",
     "output_type": "stream",
     "text": [
      "[Inputs]\n",
      "\n",
      "W (ナップサックの容量) : 2.0kg\n",
      "N (宝物の数): 6\n",
      "\n",
      "weight list\n",
      "{0: 8, 1: 10, 2: 6, 3: 4, 4: 5, 5: 3}\n",
      "\n",
      "cost list\n",
      "{0: 5, 1: 7, 2: 2, 3: 1, 4: 4, 5: 3}\n",
      "\n",
      "A : 2800\n",
      "B : 40\n",
      "\n",
      "[Results]\n",
      "\n",
      "decoded_sample.sample:\n",
      "{'y[1]': 1, 'x[0]': 0, 'y[0]': 0, 'x[1]': 1, 'x[2]': 0, 'x[3]': 0, 'x[4]': 1, 'x[5]': 1, 'y[2]': 0, 'y[3]': 0, 'y[4]': 0}\n",
      "\n",
      "x (選ばれた宝物) :\n",
      "宝物B\n",
      "宝物E\n",
      "宝物F\n",
      "\n",
      "スラック変数Y = 2\n",
      "\n",
      "broken\n",
      "{}\n",
      "合計の重さ : 1.8kg\n",
      "合計の価格 : $14,000\n"
     ]
    }
   ],
   "source": [
    "import dimod\n",
    "\n",
    "print(\"[Inputs]\")\n",
    "print()\n",
    "print(\"W (ナップサックの容量) : \" + str(W / 10) + \"kg\")\n",
    "print(\"N (宝物の数): \" + str(N))\n",
    "print()\n",
    "print(\"weight list\")\n",
    "print(w)\n",
    "print()\n",
    "print(\"cost list\")\n",
    "print(c)\n",
    "print()\n",
    "print(\"A : \" + str(A))\n",
    "print(\"B : \" + str(B))\n",
    "\n",
    "H = HA + HB\n",
    "Q = H\n",
    "model = Q.compile()\n",
    "q, offset = model.to_qubo()\n",
    "\n",
    "sampleset = dimod.ExactSolver().sample_qubo(q)\n",
    "decoded_sample = model.decode_sample(sampleset.first.sample, vartype=\"BINARY\")\n",
    "print()\n",
    "print(\"[Results]\")\n",
    "print()\n",
    "print(\"decoded_sample.sample:\")\n",
    "print(decoded_sample.sample)\n",
    "print()\n",
    "print(\"x (選ばれた宝物) :\")\n",
    "\n",
    "treasures = [\"A\", \"B\", \"C\", \"D\", \"E\", \"F\", \"G\"]\n",
    "weight = 0\n",
    "cost = 0\n",
    "\n",
    "for k in range(N):\n",
    "    if decoded_sample.array(\"x\", k) != 0:\n",
    "        print(\"宝物\" + treasures[k])\n",
    "        weight += w[k]\n",
    "        cost += c[k]\n",
    "\n",
    "\n",
    "sol_y = sum(\n",
    "    2**k * v\n",
    "    for k, v in [\n",
    "        (elem, decoded_sample.array(\"y\", elem))\n",
    "        for elem in range(math.ceil(math.log2(W)))\n",
    "    ]\n",
    ")\n",
    "\n",
    "print()\n",
    "print(\"スラック変数Y = {}\".format(sol_y))\n",
    "print()\n",
    "print(\"broken\")\n",
    "print(decoded_sample.constraints(only_broken=True))\n",
    "print(\"合計の重さ : \" + str(weight / 10) + \"kg\")\n",
    "print(\"合計の価格 : $\" + str(cost) + \",000\")"
   ]
  },
  {
   "cell_type": "code",
   "execution_count": null,
   "id": "a31d472c-912d-4fd5-96d6-c6e6e782aa78",
   "metadata": {
    "lines_to_next_cell": 2
   },
   "outputs": [],
   "source": []
  }
 ],
 "metadata": {
  "jupytext": {
   "encoding": "# -*- coding: utf-8 -*-"
  },
  "kernelspec": {
   "display_name": "qcomputing",
   "language": "python",
   "name": "qcomputing"
  },
  "language_info": {
   "codemirror_mode": {
    "name": "ipython",
    "version": 3
   },
   "file_extension": ".py",
   "mimetype": "text/x-python",
   "name": "python",
   "nbconvert_exporter": "python",
   "pygments_lexer": "ipython3",
   "version": "3.8.12"
  },
  "toc-autonumbering": true,
  "toc-showcode": true
 },
 "nbformat": 4,
 "nbformat_minor": 5
}
